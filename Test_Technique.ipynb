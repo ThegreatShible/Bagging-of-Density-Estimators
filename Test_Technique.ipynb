{
  "nbformat": 4,
  "nbformat_minor": 0,
  "metadata": {
    "colab": {
      "provenance": [],
      "collapsed_sections": [
        "RMWgrYi0lCs3",
        "t06l3MxWMDez",
        "fygwSzBZLRue",
        "BWOpxWd4GdTY"
      ],
      "authorship_tag": "ABX9TyM0DnndlqPxOaI2As+zhk8a",
      "include_colab_link": true
    },
    "kernelspec": {
      "name": "python3",
      "display_name": "Python 3"
    },
    "language_info": {
      "name": "python"
    },
    "widgets": {
      "application/vnd.jupyter.widget-state+json": {
        "5eef8bf6c5fc4d8da3f74088010bd3cf": {
          "model_module": "@jupyter-widgets/controls",
          "model_name": "FloatProgressModel",
          "model_module_version": "1.5.0",
          "state": {
            "_dom_classes": [],
            "_model_module": "@jupyter-widgets/controls",
            "_model_module_version": "1.5.0",
            "_model_name": "FloatProgressModel",
            "_view_count": null,
            "_view_module": "@jupyter-widgets/controls",
            "_view_module_version": "1.5.0",
            "_view_name": "ProgressView",
            "bar_style": "",
            "description": "",
            "description_tooltip": null,
            "layout": "IPY_MODEL_63d188dbd795401f8c7942080de8e48a",
            "max": 100,
            "min": 0,
            "orientation": "horizontal",
            "style": "IPY_MODEL_0463e777e7274329b89fc65ea271bced",
            "value": 100
          }
        },
        "63d188dbd795401f8c7942080de8e48a": {
          "model_module": "@jupyter-widgets/base",
          "model_name": "LayoutModel",
          "model_module_version": "1.2.0",
          "state": {
            "_model_module": "@jupyter-widgets/base",
            "_model_module_version": "1.2.0",
            "_model_name": "LayoutModel",
            "_view_count": null,
            "_view_module": "@jupyter-widgets/base",
            "_view_module_version": "1.2.0",
            "_view_name": "LayoutView",
            "align_content": null,
            "align_items": null,
            "align_self": null,
            "border": null,
            "bottom": null,
            "display": null,
            "flex": null,
            "flex_flow": null,
            "grid_area": null,
            "grid_auto_columns": null,
            "grid_auto_flow": null,
            "grid_auto_rows": null,
            "grid_column": null,
            "grid_gap": null,
            "grid_row": null,
            "grid_template_areas": null,
            "grid_template_columns": null,
            "grid_template_rows": null,
            "height": null,
            "justify_content": null,
            "justify_items": null,
            "left": null,
            "margin": null,
            "max_height": null,
            "max_width": null,
            "min_height": null,
            "min_width": null,
            "object_fit": null,
            "object_position": null,
            "order": null,
            "overflow": null,
            "overflow_x": null,
            "overflow_y": null,
            "padding": null,
            "right": null,
            "top": null,
            "visibility": null,
            "width": "auto"
          }
        },
        "0463e777e7274329b89fc65ea271bced": {
          "model_module": "@jupyter-widgets/controls",
          "model_name": "ProgressStyleModel",
          "model_module_version": "1.5.0",
          "state": {
            "_model_module": "@jupyter-widgets/controls",
            "_model_module_version": "1.5.0",
            "_model_name": "ProgressStyleModel",
            "_view_count": null,
            "_view_module": "@jupyter-widgets/base",
            "_view_module_version": "1.2.0",
            "_view_name": "StyleView",
            "bar_color": "black",
            "description_width": ""
          }
        },
        "5f2a72f9b705435989a067f317796ff4": {
          "model_module": "@jupyter-widgets/controls",
          "model_name": "FloatProgressModel",
          "model_module_version": "1.5.0",
          "state": {
            "_dom_classes": [],
            "_model_module": "@jupyter-widgets/controls",
            "_model_module_version": "1.5.0",
            "_model_name": "FloatProgressModel",
            "_view_count": null,
            "_view_module": "@jupyter-widgets/controls",
            "_view_module_version": "1.5.0",
            "_view_name": "ProgressView",
            "bar_style": "",
            "description": "",
            "description_tooltip": null,
            "layout": "IPY_MODEL_1324cd834b8c4786b6b3f1773f7f789d",
            "max": 100,
            "min": 0,
            "orientation": "horizontal",
            "style": "IPY_MODEL_c16cc24bcb764dd5826d8d4743363f09",
            "value": 100
          }
        },
        "1324cd834b8c4786b6b3f1773f7f789d": {
          "model_module": "@jupyter-widgets/base",
          "model_name": "LayoutModel",
          "model_module_version": "1.2.0",
          "state": {
            "_model_module": "@jupyter-widgets/base",
            "_model_module_version": "1.2.0",
            "_model_name": "LayoutModel",
            "_view_count": null,
            "_view_module": "@jupyter-widgets/base",
            "_view_module_version": "1.2.0",
            "_view_name": "LayoutView",
            "align_content": null,
            "align_items": null,
            "align_self": null,
            "border": null,
            "bottom": null,
            "display": null,
            "flex": null,
            "flex_flow": null,
            "grid_area": null,
            "grid_auto_columns": null,
            "grid_auto_flow": null,
            "grid_auto_rows": null,
            "grid_column": null,
            "grid_gap": null,
            "grid_row": null,
            "grid_template_areas": null,
            "grid_template_columns": null,
            "grid_template_rows": null,
            "height": null,
            "justify_content": null,
            "justify_items": null,
            "left": null,
            "margin": null,
            "max_height": null,
            "max_width": null,
            "min_height": null,
            "min_width": null,
            "object_fit": null,
            "object_position": null,
            "order": null,
            "overflow": null,
            "overflow_x": null,
            "overflow_y": null,
            "padding": null,
            "right": null,
            "top": null,
            "visibility": null,
            "width": "auto"
          }
        },
        "c16cc24bcb764dd5826d8d4743363f09": {
          "model_module": "@jupyter-widgets/controls",
          "model_name": "ProgressStyleModel",
          "model_module_version": "1.5.0",
          "state": {
            "_model_module": "@jupyter-widgets/controls",
            "_model_module_version": "1.5.0",
            "_model_name": "ProgressStyleModel",
            "_view_count": null,
            "_view_module": "@jupyter-widgets/base",
            "_view_module_version": "1.2.0",
            "_view_name": "StyleView",
            "bar_color": "black",
            "description_width": ""
          }
        }
      }
    }
  },
  "cells": [
    {
      "cell_type": "markdown",
      "metadata": {
        "id": "view-in-github",
        "colab_type": "text"
      },
      "source": [
        "<a href=\"https://colab.research.google.com/github/ThegreatShible/Bagging-of-Density-Estimators/blob/master/Test_Technique.ipynb\" target=\"_parent\"><img src=\"https://colab.research.google.com/assets/colab-badge.svg\" alt=\"Open In Colab\"/></a>"
      ]
    },
    {
      "cell_type": "markdown",
      "source": [
        "# Generation Sample\n",
        "\n",
        "Generate a Pandas DataFrame containing three columns : strategy id, date, and p&l\n",
        "\n",
        "- the strategy_id should be incremental integers\n",
        "- the data should represent 1000 strategies with daily records from january 1,2000 to today\n",
        "- the p&l daily values should be randomly assigned as ether -1 or +1\n"
      ],
      "metadata": {
        "id": "RMWgrYi0lCs3"
      }
    },
    {
      "cell_type": "code",
      "execution_count": 22,
      "metadata": {
        "colab": {
          "base_uri": "https://localhost:8080/"
        },
        "id": "fIKujpokPHhg",
        "outputId": "d7487763-39a1-4423-a5f3-829524d3f5e7"
      },
      "outputs": [
        {
          "output_type": "stream",
          "name": "stdout",
          "text": [
            "   strategy_id       date  p_l\n",
            "0            1 2000-01-01    1\n",
            "1            1 2000-01-02    1\n",
            "2            1 2000-01-03   -1\n",
            "3            1 2000-01-04    1\n",
            "4            1 2000-01-05    1\n",
            "         strategy_id       date  p_l\n",
            "8959995         1000 2024-07-08    1\n",
            "8959996         1000 2024-07-09    1\n",
            "8959997         1000 2024-07-10    1\n",
            "8959998         1000 2024-07-11    1\n",
            "8959999         1000 2024-07-12   -1\n"
          ]
        }
      ],
      "source": [
        "import pandas as pd\n",
        "import numpy as np\n",
        "\n",
        "# Définir les dates de début et de fin\n",
        "start_date = '2000-01-01'\n",
        "end_date = pd.to_datetime('today').strftime('%Y-%m-%d')\n",
        "\n",
        "# Générer la plage de dates\n",
        "dates = pd.date_range(start=start_date, end=end_date)\n",
        "\n",
        "# Nombre de stratégies\n",
        "num_strategies = 1000\n",
        "\n",
        "# Créer une liste pour les strategy_id\n",
        "strategy_ids = np.arange(1, num_strategies + 1)\n",
        "\n",
        "# Générer le DataFrame\n",
        "data = {\n",
        "    'strategy_id': np.repeat(strategy_ids, len(dates)),  # Répète chaque strategy_id pour chaque date\n",
        "    'date': np.tile(dates, num_strategies),  # Répète la série de dates pour chaque strategy_id\n",
        "    'p_l': np.random.choice([-1, 1], size=len(dates) * num_strategies)  # Génère des valeurs aléatoires de -1 ou +1\n",
        "}\n",
        "\n",
        "df = pd.DataFrame(data)\n",
        "\n",
        "# Afficher les premières lignes du DataFrame\n",
        "print(df.head())\n",
        "# Afficher les dernières lignes du DataFrame\n",
        "print(df.tail())\n",
        "# Sauvegarde du df dans un fichier CSV\n",
        "df.to_csv('/content/df.csv', index=False)"
      ]
    },
    {
      "cell_type": "markdown",
      "source": [
        "# MTD/YTD Capital Gain\n",
        "\n",
        "Month to date (MTD) and Year to Date (YTD) refer to the periods of time starting from the first day of the current motnh or year, respectively and ending at the current date. they include all days from the beginning of the period up to and including the current day. The p&l should be summed over the period to obtain the aggregated p&l. Write 2 functions (DuckDB and Pandas) to evaluate the MTD and YTD for each date.\n",
        "\n"
      ],
      "metadata": {
        "id": "CL0c09MalHF5"
      }
    },
    {
      "cell_type": "markdown",
      "source": [
        "## Pandas"
      ],
      "metadata": {
        "id": "t06l3MxWMDez"
      }
    },
    {
      "cell_type": "code",
      "source": [
        "import pandas as pd\n",
        "\n",
        "def calculate_mtd_ytd_pandas(data: pd.DataFrame):\n",
        "    data['date'] = pd.to_datetime(data['date'])\n",
        "\n",
        "    # Calcul du MTD\n",
        "    data['month'] = data['date'].dt.to_period('M')\n",
        "    data['mtd'] = data.groupby(['strategy_id', 'month'])['p_l'].cumsum()\n",
        "\n",
        "    # Calcul du YTD\n",
        "    data['year'] = data['date'].dt.to_period('Y')\n",
        "    data['ytd'] = data.groupby(['strategy_id', 'year'])['p_l'].cumsum()\n",
        "\n",
        "    return data[['strategy_id', 'date', 'p_l', 'mtd', 'ytd']]\n",
        "\n",
        "# Tester la fonction Pandas\n",
        "result_pandas = calculate_mtd_ytd_pandas(df)\n",
        "print(result_pandas.head())\n"
      ],
      "metadata": {
        "colab": {
          "base_uri": "https://localhost:8080/"
        },
        "id": "Pm1RHDL8bHk0",
        "outputId": "97ba42ee-35b0-49cf-b004-551c5f17bc9b"
      },
      "execution_count": 20,
      "outputs": [
        {
          "output_type": "stream",
          "name": "stdout",
          "text": [
            "   strategy_id       date  p_l  mtd  ytd\n",
            "0            1 2000-01-01    1    1    1\n",
            "1            1 2000-01-02   -1    0    0\n",
            "2            1 2000-01-03    1    1    1\n",
            "3            1 2000-01-04   -1    0    0\n",
            "4            1 2000-01-05   -1   -1   -1\n"
          ]
        }
      ]
    },
    {
      "cell_type": "markdown",
      "source": [
        "## DuckDB"
      ],
      "metadata": {
        "id": "fygwSzBZLRue"
      }
    },
    {
      "cell_type": "markdown",
      "source": [
        "Simulation de la création d'une table DuckDB à partir du df"
      ],
      "metadata": {
        "id": "XajMeJ_gMgXL"
      }
    },
    {
      "cell_type": "code",
      "source": [
        "import duckdb\n",
        "\n",
        "# Chemin vers le fichier CSV dans Google Colab\n",
        "csv_file = '/content/df.csv'\n",
        "\n",
        "# Connexion à DuckDB\n",
        "conn = duckdb.connect(database=':memory:', read_only=False)\n",
        "\n",
        "# Création d'une table DuckDB à partir du fichier CSV\n",
        "create_table_query = f\"\"\"\n",
        "CREATE TABLE transactions AS FROM READ_CSV('df.csv');\n",
        "\"\"\"\n",
        "conn.execute(create_table_query)\n",
        "\n",
        "# Vérifier que la table a été créée\n",
        "tables = conn.execute(\"SHOW TABLES\").fetch_df()\n",
        "print(tables)\n",
        "\n",
        "# Affichage du contenu de la table\n",
        "query = \"SELECT * FROM transactions\"\n",
        "result = conn.execute(query).fetch_df()\n",
        "print(result)"
      ],
      "metadata": {
        "colab": {
          "base_uri": "https://localhost:8080/",
          "height": 327,
          "referenced_widgets": [
            "5eef8bf6c5fc4d8da3f74088010bd3cf",
            "63d188dbd795401f8c7942080de8e48a",
            "0463e777e7274329b89fc65ea271bced"
          ]
        },
        "id": "LxpxdkZYL4gZ",
        "outputId": "96f83eb2-78a2-4232-9d38-cf07731923bc"
      },
      "execution_count": 23,
      "outputs": [
        {
          "output_type": "display_data",
          "data": {
            "text/plain": [
              "FloatProgress(value=0.0, layout=Layout(width='auto'), style=ProgressStyle(bar_color='black'))"
            ],
            "application/vnd.jupyter.widget-view+json": {
              "version_major": 2,
              "version_minor": 0,
              "model_id": "5eef8bf6c5fc4d8da3f74088010bd3cf"
            }
          },
          "metadata": {}
        },
        {
          "output_type": "stream",
          "name": "stdout",
          "text": [
            "           name\n",
            "0  transactions\n",
            "         strategy_id       date  p_l\n",
            "0                  1 2000-01-01    1\n",
            "1                  1 2000-01-02    1\n",
            "2                  1 2000-01-03   -1\n",
            "3                  1 2000-01-04    1\n",
            "4                  1 2000-01-05    1\n",
            "...              ...        ...  ...\n",
            "8959995         1000 2024-07-08    1\n",
            "8959996         1000 2024-07-09    1\n",
            "8959997         1000 2024-07-10    1\n",
            "8959998         1000 2024-07-11    1\n",
            "8959999         1000 2024-07-12   -1\n",
            "\n",
            "[8960000 rows x 3 columns]\n"
          ]
        }
      ]
    },
    {
      "cell_type": "markdown",
      "source": [
        "Création de la requête afin de calculer MTD et YTD"
      ],
      "metadata": {
        "id": "PMZzLfQgMw1f"
      }
    },
    {
      "cell_type": "code",
      "source": [
        "# Requête pour calculer MTD et YTD\n",
        "query = \"\"\"\n",
        "WITH mtd_calc AS (\n",
        "    SELECT\n",
        "        strategy_id,\n",
        "        date,\n",
        "        p_l,\n",
        "        SUM(p_l) OVER (PARTITION BY strategy_id, DATE_TRUNC('month', date) ORDER BY date) AS mtd\n",
        "    FROM transactions\n",
        "),\n",
        "ytd_calc AS (\n",
        "    SELECT\n",
        "        strategy_id,\n",
        "        date,\n",
        "        p_l,\n",
        "        SUM(p_l) OVER (PARTITION BY strategy_id, DATE_TRUNC('year', date) ORDER BY date) AS ytd\n",
        "    FROM transactions\n",
        ")\n",
        "SELECT\n",
        "    t.strategy_id,\n",
        "    t.date,\n",
        "    t.p_l,\n",
        "    m.mtd,\n",
        "    y.ytd\n",
        "FROM\n",
        "    transactions t\n",
        "JOIN\n",
        "    mtd_calc m ON t.strategy_id = m.strategy_id AND t.date = m.date\n",
        "JOIN\n",
        "    ytd_calc y ON t.strategy_id = y.strategy_id AND t.date = y.date\n",
        "ORDER BY\n",
        "    t.strategy_id, t.date\n",
        "\"\"\"\n",
        "\n",
        "# Exécution de la requête et récupération des résultats\n",
        "result = conn.execute(query).fetch_df()\n",
        "\n",
        "# Afficher les résultats\n",
        "print(result)\n"
      ],
      "metadata": {
        "colab": {
          "base_uri": "https://localhost:8080/",
          "height": 292,
          "referenced_widgets": [
            "5f2a72f9b705435989a067f317796ff4",
            "1324cd834b8c4786b6b3f1773f7f789d",
            "c16cc24bcb764dd5826d8d4743363f09"
          ]
        },
        "id": "YoTf9jl-RgWO",
        "outputId": "f6ff6734-899c-480d-b437-619f9eb7d4ef"
      },
      "execution_count": 5,
      "outputs": [
        {
          "output_type": "display_data",
          "data": {
            "text/plain": [
              "FloatProgress(value=0.0, layout=Layout(width='auto'), style=ProgressStyle(bar_color='black'))"
            ],
            "application/vnd.jupyter.widget-view+json": {
              "version_major": 2,
              "version_minor": 0,
              "model_id": "5f2a72f9b705435989a067f317796ff4"
            }
          },
          "metadata": {}
        },
        {
          "output_type": "stream",
          "name": "stdout",
          "text": [
            "         strategy_id       date  p_l  mtd  ytd\n",
            "0                  1 2000-01-01   -1 -1.0 -1.0\n",
            "1                  1 2000-01-02   -1 -2.0 -2.0\n",
            "2                  1 2000-01-03   -1 -3.0 -3.0\n",
            "3                  1 2000-01-04    1 -2.0 -2.0\n",
            "4                  1 2000-01-05   -1 -3.0 -3.0\n",
            "...              ...        ...  ...  ...  ...\n",
            "8959995         1000 2024-07-08   -1 -2.0 -2.0\n",
            "8959996         1000 2024-07-09   -1 -3.0 -3.0\n",
            "8959997         1000 2024-07-10   -1 -4.0 -4.0\n",
            "8959998         1000 2024-07-11   -1 -5.0 -5.0\n",
            "8959999         1000 2024-07-12   -1 -6.0 -6.0\n",
            "\n",
            "[8960000 rows x 5 columns]\n"
          ]
        }
      ]
    },
    {
      "cell_type": "markdown",
      "source": [
        "# Large-scale data\n",
        "\n",
        "\n",
        "Discuss strategies for maning the same calculation with a dataset that is too large to fit into memory ?\n",
        "\n"
      ],
      "metadata": {
        "id": "BWOpxWd4GdTY"
      }
    },
    {
      "cell_type": "markdown",
      "source": [
        "Pour répondre à cette question, je pense qu’il faudrait d’abord comprendre ce qu’on entend par « trop volumineux pour tenir en mémoire ».\n",
        "\n",
        "\"trop volumineuses pour tenir en mémoire\", cela signifie que la quantité de données dépasse la capacité de la mémoire vive (RAM) disponible sur un seul système informatique. La mémoire vive est l'espace de stockage temporaire utilisé par le système d'exploitation pour stocker des données nécessaires au traitement.\n",
        "\n",
        "Face à cette contrainte, plusieurs stratégies peuvent être adoptées :\n",
        "-\t**Partitionnement** : Diviser les données en morceaux gérables (partitions) qui peuvent être traités séparément. Exemples : BigQuery, PostgreSQL avec partitionnement\n",
        "- **Traitement distribué**: Utiliser des systèmes distribués comme Hadoop, Spark ou Cassandra pour répartir les données sur plusieurs nœuds (ie des serveurs physiques ou virtuels)\n",
        "- **Batch Processing** : Traiter les données par lots, en lisant et en écrivant les données de manière séquentielle plutôt que simultanément. Exemple : Apache Beam.\n",
        "- **Calcul sur disque** : Utiliser des outils conçus pour manipuler efficacement les données stockées sur disque plutôt que celles en mémoire vive. Par exemple, le Chunking permet de lire et de traiter les données en morceaux (chunks) plutôt qu'en une seule fois. Des bibliothèques comme Dask en Python permettent également le calcul parallèle et distribué, adapté à des DataFrames plus grands que la mémoire disponible.\n"
      ],
      "metadata": {
        "id": "nGnPWTaiHeMb"
      }
    }
  ]
}